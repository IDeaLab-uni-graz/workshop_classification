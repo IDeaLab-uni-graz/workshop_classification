{
 "cells": [
  {
   "metadata": {},
   "cell_type": "markdown",
   "source": [
    "Setup the environment\n",
    "===\n",
    "- Install the required packages\n",
    "- Import the required libraries"
   ],
   "id": "daf46a506707a7d"
  },
  {
   "metadata": {
    "ExecuteTime": {
     "end_time": "2025-06-11T11:05:20.131633Z",
     "start_time": "2025-06-11T11:05:19.259982Z"
    }
   },
   "cell_type": "code",
   "source": "%pip install kagglehub",
   "id": "initial_id",
   "outputs": [
    {
     "name": "stdout",
     "output_type": "stream",
     "text": [
      "Collecting kagglehub\r\n",
      "  Downloading kagglehub-0.3.12-py3-none-any.whl.metadata (38 kB)\r\n",
      "Requirement already satisfied: packaging in ./.venv/lib/python3.13/site-packages (from kagglehub) (25.0)\r\n",
      "Requirement already satisfied: pyyaml in ./.venv/lib/python3.13/site-packages (from kagglehub) (6.0.2)\r\n",
      "Requirement already satisfied: requests in ./.venv/lib/python3.13/site-packages (from kagglehub) (2.32.4)\r\n",
      "Collecting tqdm (from kagglehub)\r\n",
      "  Using cached tqdm-4.67.1-py3-none-any.whl.metadata (57 kB)\r\n",
      "Requirement already satisfied: charset_normalizer<4,>=2 in ./.venv/lib/python3.13/site-packages (from requests->kagglehub) (3.4.2)\r\n",
      "Requirement already satisfied: idna<4,>=2.5 in ./.venv/lib/python3.13/site-packages (from requests->kagglehub) (3.10)\r\n",
      "Requirement already satisfied: urllib3<3,>=1.21.1 in ./.venv/lib/python3.13/site-packages (from requests->kagglehub) (2.4.0)\r\n",
      "Requirement already satisfied: certifi>=2017.4.17 in ./.venv/lib/python3.13/site-packages (from requests->kagglehub) (2025.4.26)\r\n",
      "Downloading kagglehub-0.3.12-py3-none-any.whl (67 kB)\r\n",
      "Using cached tqdm-4.67.1-py3-none-any.whl (78 kB)\r\n",
      "Installing collected packages: tqdm, kagglehub\r\n",
      "Successfully installed kagglehub-0.3.12 tqdm-4.67.1\r\n",
      "\r\n",
      "\u001B[1m[\u001B[0m\u001B[34;49mnotice\u001B[0m\u001B[1;39;49m]\u001B[0m\u001B[39;49m A new release of pip is available: \u001B[0m\u001B[31;49m25.0.1\u001B[0m\u001B[39;49m -> \u001B[0m\u001B[32;49m25.1.1\u001B[0m\r\n",
      "\u001B[1m[\u001B[0m\u001B[34;49mnotice\u001B[0m\u001B[1;39;49m]\u001B[0m\u001B[39;49m To update, run: \u001B[0m\u001B[32;49mpip install --upgrade pip\u001B[0m\r\n",
      "Note: you may need to restart the kernel to use updated packages.\n"
     ]
    }
   ],
   "execution_count": 1
  },
  {
   "metadata": {
    "ExecuteTime": {
     "end_time": "2025-06-11T11:06:43.765820Z",
     "start_time": "2025-06-11T11:06:43.724694Z"
    }
   },
   "cell_type": "code",
   "source": "import kagglehub # used to download the dataset",
   "id": "765c5f5eb80fe781",
   "outputs": [
    {
     "name": "stderr",
     "output_type": "stream",
     "text": [
      "/home/matthiash/code/workshop_classification/.venv/lib/python3.13/site-packages/tqdm/auto.py:21: TqdmWarning: IProgress not found. Please update jupyter and ipywidgets. See https://ipywidgets.readthedocs.io/en/stable/user_install.html\n",
      "  from .autonotebook import tqdm as notebook_tqdm\n"
     ]
    }
   ],
   "execution_count": 3
  },
  {
   "metadata": {},
   "cell_type": "markdown",
   "source": [
    "Inspect the dataset\n",
    "==="
   ],
   "id": "1ae472b356ec74ce"
  },
  {
   "metadata": {
    "ExecuteTime": {
     "end_time": "2025-06-11T11:11:14.557975Z",
     "start_time": "2025-06-11T11:06:45.291810Z"
    }
   },
   "cell_type": "code",
   "source": [
    "kaggle_name = \"aklimarimi/8-facial-expressions-for-yolo\"\n",
    "path = kagglehub.dataset_download(kaggle_name)\n",
    "\n",
    "print(\"Path to dataset files:\", path)"
   ],
   "id": "eec0dbe3ec3d3630",
   "outputs": [
    {
     "name": "stdout",
     "output_type": "stream",
     "text": [
      "Downloading from https://www.kaggle.com/api/v1/datasets/download/aklimarimi/8-facial-expressions-for-yolo?dataset_version_number=4...\n"
     ]
    },
    {
     "name": "stderr",
     "output_type": "stream",
     "text": [
      "100%|██████████| 3.77G/3.77G [04:08<00:00, 16.3MB/s]"
     ]
    },
    {
     "name": "stdout",
     "output_type": "stream",
     "text": [
      "Extracting files...\n"
     ]
    },
    {
     "name": "stderr",
     "output_type": "stream",
     "text": [
      "\n"
     ]
    },
    {
     "name": "stdout",
     "output_type": "stream",
     "text": [
      "Path to dataset files: /home/matthiash/.cache/kagglehub/datasets/aklimarimi/8-facial-expressions-for-yolo/versions/4\n"
     ]
    }
   ],
   "execution_count": 4
  }
 ],
 "metadata": {
  "kernelspec": {
   "display_name": "Python 3",
   "language": "python",
   "name": "python3"
  },
  "language_info": {
   "codemirror_mode": {
    "name": "ipython",
    "version": 2
   },
   "file_extension": ".py",
   "mimetype": "text/x-python",
   "name": "python",
   "nbconvert_exporter": "python",
   "pygments_lexer": "ipython2",
   "version": "2.7.6"
  }
 },
 "nbformat": 4,
 "nbformat_minor": 5
}
